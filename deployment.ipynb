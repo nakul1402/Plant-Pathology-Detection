{
 "cells": [
  {
   "cell_type": "markdown",
   "id": "6840fe59",
   "metadata": {
    "id": "6840fe59"
   },
   "source": [
    "# Model Deployment- Plant Pathology"
   ]
  },
  {
   "cell_type": "markdown",
   "id": "HXjJGWg5RB79",
   "metadata": {
    "id": "HXjJGWg5RB79"
   },
   "source": [
    "- Reference- https://www.analyticsvidhya.com/blog/2020/08/image-augmentation-on-the-fly-using-keras-imagedatagenerator/\n",
    "- Reference- https://keras.io/api/models/sequential/\n",
    "- Reference- https://stackoverflow.com/questions/11264521/date-ticks-and-rotation-in-matplotlib\n",
    "- Reference- https://bsapubs.onlinelibrary.wiley.com/doi/10.1002/aps3.11390\n",
    "- Reference- https://www.kaggle.com/competitions/plant-pathology-2020-fgvc7/code\n",
    "- Reference- https://www.kaggle.com/code/rajesh2609/apple-foliar-diseases-extensive-analysis\n",
    "- Reference- https://www.kaggle.com/code/dilarazdemir/plant-pathology-eda-deep-learning-models\n",
    "- Reference- https://www.kaggle.com/code/kaledhoshme/classification-foliar-diseases-in-apple-trees\n",
    "- Reference- https://www.kaggle.com/code/nitinchoudhary012/apple-disease-classification\n",
    "- Reference- https://www.kaggle.com/code/geochatz/plant-pathology-classification-with-tensorflow\n",
    "- Reference- https://medium.com/@dhirajkumarsahu.999/plant-disease-detection-926ca83b4aa8\n",
    "- Reference- https://github.com/Elvictor01/Plant-Pathology-2020---FGVC7-Identify-the-category-of-foliar-diseases-in-apple-trees/blob/master/Plant%20Pathology%202020%20_Image_Classifier.ipynb\n",
    "- Reference- https://github.com/Julen96/Plant-Pathology-2020-FGVC7/tree/master/Jupyter%20Notebooks\n",
    "- Reference- https://github.com/ResByte/plant-pathology-2020-fgvc7-pytorch\n",
    "- Reference- https://github.com/newbieeashish/Plant-Pathology-2020---FGVC7/blob/master/Plant_pathology.ipynb\n",
    "- Reference- https://graphviz.gitlab.io/download/\n",
    "- Reference- https://keras.io/api/utils/model_plotting_utils/\n",
    "- Reference- https://pypi.org/project/pydot/\n",
    "- Reference- https://stackoverflow.com/questions/47113472/tensorboard-error-no-dashboards-are-active-for-current-data-set\n",
    "- Reference- https://stackoverflow.com/questions/6444548/how-do-i-get-the-picture-size-with-pil\n",
    "- Reference- https://stackoverflow.com/questions/54595551/what-is-this-error-attributeerror-numpy-ndarray-object-has-no-attribute-loa\n",
    "- Reference- https://stackoverflow.com/questions/50906123/nameerror-name-image-is-not-defined\n",
    "- Reference- https://www.kaggle.com/competitions/plant-pathology-2020-fgvc7/submissions\n",
    "- Reference- https://www.kaggle.com/code/phuc16102001/plant-pathology-2020-vgg-style\n",
    "- Reference- https://medium.com/@1297rohit/transfer-learning-from-scratch-using-keras-339834b153b9\n",
    "- Reference- https://towardsdatascience.com/end-to-end-deep-learning-project-part-1-930af1e1e191\n",
    "- Reference- https://towardsdatascience.com/step-by-step-vgg16-implementation-in-keras-for-beginners-a833c686ae6c\n",
    "- Reference- https://www.geeksforgeeks.org/vgg-16-cnn-model/\n",
    "- Reference- https://medium.com/@mygreatlearning/everything-you-need-to-know-about-vgg16-7315defb5918#:~:text=VGG16%20is%20object%20detection%20and,to%20use%20with%20transfer%20learning.\n",
    "- Reference- https://www.analyticsvidhya.com/blog/2020/08/image-augmentation-on-the-fly-using-keras-imagedatagenerator/\n",
    "- Reference- https://www.analyticsvidhya.com/blog/2021/06/confusion-matrix-for-multi-class-classification/\n",
    "- Reference- https://keras.io/api/models/sequential/\n",
    "- Reference- https://www.kaggle.com/code/nguyentongduchuy/c-l-n-m-i-ng-i-i-acc-99\n",
    "- Reference- https://www.kaggle.com/code/ndhpro/plant-pathology-2020-efficientnet\n",
    "- Reference- https://github.com/DhirajKumarSahu/Plant_Pathology_Challenge\n",
    "- Reference- https://www.kaggle.com/competitions/plant-pathology-2020-fgvc7/submissions#\n",
    "- Reference- https://stackoverflow.com/questions/57113226/how-can-i-prevent-google-colab-from-disconnecting\n",
    "- Reference- https://programtalk.com/python-more-examples/plotly.figure_factory.create_distplot/\n",
    "- Reference- https://plotly.com/python/distplot/\n",
    "- Reference- https://plotly.com/python/figure-labels/\n",
    "- Reference- https://www.geeksforgeeks.org/how-to-get-first-row-of-pandas-dataframe/\n",
    "- Reference- https://blog.finxter.com/how-to-show-images-in-python/\n",
    "- Reference- https://stackoverflow.com/questions/74500526/streamlit-via-google-colab-through-localtunnel-does-not-work-anymore\n",
    "- Reference- https://medium.com/@jcharistech/how-to-run-streamlit-apps-from-colab-29b969a1bdfc\n",
    "- Reference- https://www.freecodecamp.org/news/deploy-your-machine-learning-models-for-free/\n",
    "- Reference- https://www.freecodecamp.org/news/deploy-ml-model-to-production-as-api/\n",
    "- Reference- https://medium.com/analytics-vidhya/how-to-deploy-simple-machine-learning-models-for-free-56cdccc62b8d\n",
    "- Reference- https://devcenter.heroku.com/articles/git "
   ]
  },
  {
   "cell_type": "code",
   "execution_count": 1,
   "id": "e5b655f5",
   "metadata": {
    "colab": {
     "base_uri": "https://localhost:8080/"
    },
    "id": "e5b655f5",
    "outputId": "67158eac-8255-4bf7-ad3a-1c7cc9c7822b"
   },
   "outputs": [
    {
     "name": "stdout",
     "output_type": "stream",
     "text": [
      "Mounted at /content/drive/\n"
     ]
    }
   ],
   "source": [
    "from google.colab import drive\n",
    "drive.mount('/content/drive/')"
   ]
  },
  {
   "cell_type": "code",
   "execution_count": 2,
   "id": "08b3e152",
   "metadata": {
    "colab": {
     "base_uri": "https://localhost:8080/"
    },
    "id": "08b3e152",
    "outputId": "7eb5d04d-dc58-4e6c-8acf-6486992f00fd"
   },
   "outputs": [
    {
     "name": "stdout",
     "output_type": "stream",
     "text": [
      "\u001b[K     |████████████████████████████████| 9.2 MB 14.7 MB/s \n",
      "\u001b[K     |████████████████████████████████| 78 kB 8.1 MB/s \n",
      "\u001b[K     |████████████████████████████████| 164 kB 95.0 MB/s \n",
      "\u001b[K     |████████████████████████████████| 4.7 MB 53.3 MB/s \n",
      "\u001b[K     |████████████████████████████████| 237 kB 66.7 MB/s \n",
      "\u001b[K     |████████████████████████████████| 182 kB 50.4 MB/s \n",
      "\u001b[K     |████████████████████████████████| 62 kB 1.3 MB/s \n",
      "\u001b[K     |████████████████████████████████| 51 kB 7.4 MB/s \n",
      "\u001b[?25h  Building wheel for validators (setup.py) ... \u001b[?25l\u001b[?25hdone\n",
      "\u001b[K     |████████████████████████████████| 761 kB 14.3 MB/s \n",
      "\u001b[?25h  Building wheel for pyngrok (setup.py) ... \u001b[?25l\u001b[?25hdone\n"
     ]
    }
   ],
   "source": [
    "!pip -q install streamlit==1.13.0\n",
    "!pip -q install pyngrok\n",
    "# !pip -q install protobuf\n",
    "# !pip install fastapi uvicorn"
   ]
  },
  {
   "cell_type": "code",
   "execution_count": 3,
   "id": "83c31b9e",
   "metadata": {
    "id": "83c31b9e"
   },
   "outputs": [],
   "source": [
    "import os \n",
    "import pandas as pd\n",
    "import numpy as np\n",
    "import matplotlib.pyplot as plt\n",
    "import cv2\n",
    "import plotly.express as px\n",
    "import plotly.graph_objects as go\n",
    "import tensorflow\n",
    "import keras\n",
    "from keras.utils import np_utils\n",
    "from keras.models import Model,Sequential\n",
    "from tensorflow.keras.preprocessing import image\n",
    "from keras.preprocessing.image import ImageDataGenerator\n",
    "from tensorflow.keras.callbacks import ModelCheckpoint,EarlyStopping\n",
    "from keras.layers import GlobalAveragePooling2D, Dropout, Dense,Activation\n",
    "from keras import optimizers\n",
    "from PIL import Image\n",
    "from tqdm import tqdm\n",
    "import plotly.figure_factory as ff\n",
    "from plotly.subplots import make_subplots\n",
    "from keras.applications.densenet import DenseNet121\n",
    "tqdm.pandas()\n",
    "import datetime as dt\n",
    "from pyngrok import ngrok\n",
    "import streamlit as st"
   ]
  },
  {
   "cell_type": "code",
   "execution_count": 4,
   "id": "b682c018",
   "metadata": {
    "colab": {
     "base_uri": "https://localhost:8080/"
    },
    "id": "b682c018",
    "outputId": "f13618f8-91b2-416d-db24-a3b71c867467"
   },
   "outputs": [
    {
     "name": "stdout",
     "output_type": "stream",
     "text": [
      "Writing app.py\n"
     ]
    }
   ],
   "source": [
    "%%writefile app.py\n",
    "\n",
    "import os \n",
    "import pandas as pd\n",
    "import numpy as np\n",
    "import matplotlib.pyplot as plt\n",
    "import cv2\n",
    "import plotly.express as px\n",
    "import plotly.graph_objects as go\n",
    "import tensorflow\n",
    "import keras\n",
    "from keras.utils import np_utils\n",
    "from keras.models import Model,Sequential\n",
    "from keras.layers import GlobalAveragePooling2D, Dropout, Dense,Activation\n",
    "from tensorflow.keras.callbacks import ModelCheckpoint,EarlyStopping\n",
    "from keras.preprocessing.image import ImageDataGenerator\n",
    "from keras import optimizers\n",
    "from PIL import Image\n",
    "from tensorflow.keras.preprocessing import image\n",
    "from tqdm import tqdm\n",
    "import plotly.figure_factory as ff\n",
    "from plotly.subplots import make_subplots\n",
    "from keras.applications.densenet import DenseNet121\n",
    "from sklearn.metrics import roc_auc_score\n",
    "tqdm.pandas()\n",
    "from pyngrok import ngrok\n",
    "import streamlit as st\n",
    "import datetime as dt\n",
    "\n",
    "file_upload= st.file_uploader(\"Select a file\")\n",
    "if file_upload is not None:\n",
    "    st.subheader('Plant Disease Prediction:')\n",
    "    query_1 = pd.read_csv(file_upload)\n",
    "\n",
    "    batches = 16\n",
    "    datagen = ImageDataGenerator(\n",
    "        rotation_range=10, # rotating the image\n",
    "        width_shift_range=0.2, # horizontally shifting the image\n",
    "        height_shift_range=0.2, # vertically shifting the image\n",
    "        zoom_range=0.2, # zooming the image\n",
    "        horizontal_flip=True, # horizontally fliping the image\n",
    "        brightness_range=[0.2,1.2]) # brightening the image\n",
    "    \n",
    "    test_datagen = datagen.flow_from_dataframe(dataframe= query_1,\n",
    "                                               directory='/content/drive/MyDrive/Self_Case_Study_2/plant-pathology-2020-fgvc7/images/',\n",
    "                                               x_col=\"image_id\", \n",
    "                                               y_col=None, \n",
    "                                               class_mode=None,\n",
    "                                               shuffle=False, \n",
    "                                               batch_size=batches,\n",
    "                                               target_size=(100,100)\n",
    "                                              )\n",
    "\n",
    "    def roc_auc(y_true, y_prediction):\n",
    "        try:\n",
    "            roc_auc_score(y_true, y_prediction)\n",
    "        except ValueError:\n",
    "            return 0.5\n",
    "        return roc_auc_score(y_true, y_prediction)\n",
    "\n",
    "    def auc_score( y_true, y_prediction ) :\n",
    "        score_auc = tensorflow.py_function(roc_auc,[y_true, y_prediction],'float32',name='sklearnAUC')\n",
    "        return score_auc\n",
    "\n",
    "\n",
    "    pre_dense_model = DenseNet121(include_top=False, weights='imagenet', input_shape=(100,100,3))\n",
    "    dense_model = tensorflow.keras.Sequential([pre_dense_model,\n",
    "                                               tensorflow.keras.layers.GlobalAveragePooling2D(),\n",
    "                                               tensorflow.keras.layers.Dropout(0.3),\n",
    "                                               tensorflow.keras.layers.Dense(4, activation='softmax')])\n",
    "    dense_model.load_weights(\"/content/drive/My Drive/Self_Case_Study_2/plant-pathology-2020-fgvc7/dense_model.hdf5\")\n",
    "    \n",
    "    prediction = dense_model.predict(test_datagen, verbose=1)\n",
    "    \n",
    "    file_id = query_1.image_id\n",
    "\n",
    "    for i in file_id:\n",
    "        image_read = cv2.imread(\"/content/drive/MyDrive/Self_Case_Study_2/plant-pathology-2020-fgvc7/images/\"+i)\n",
    "        resize_image = cv2.resize(image_read,(256,256))\n",
    "\n",
    "    filename = \"/content/drive/MyDrive/Self_Case_Study_2/plant-pathology-2020-fgvc7/sample_submission.csv\"\n",
    "    submit = pd.read_csv(filename)\n",
    "    file = submit.iloc[:1]\n",
    "    file.loc[:,'healthy':] = prediction\n",
    "    \n",
    "    \n",
    "    st.subheader('Predicted leaf disease with probabilities:')\n",
    "    st.write(file)\n",
    "    st.image(resize_image)"
   ]
  },
  {
   "cell_type": "code",
   "execution_count": 5,
   "id": "9f2f9397",
   "metadata": {
    "colab": {
     "base_uri": "https://localhost:8080/"
    },
    "id": "9f2f9397",
    "outputId": "0369f73b-0be6-4848-ff1f-1333731b3c39"
   },
   "outputs": [
    {
     "name": "stdout",
     "output_type": "stream",
     "text": [
      "Authtoken saved to configuration file: /root/.ngrok2/ngrok.yml\n"
     ]
    }
   ],
   "source": [
    "!ngrok authtoken 2ISBpeRIyVchTvoZUEAUdi8pMUi_5H61hPvbu6Wjd5DhhNB1p"
   ]
  },
  {
   "cell_type": "code",
   "execution_count": null,
   "id": "e98e7c5d",
   "metadata": {
    "colab": {
     "base_uri": "https://localhost:8080/"
    },
    "id": "e98e7c5d",
    "outputId": "faecc04f-149a-43c9-cefa-1d7e30916e85"
   },
   "outputs": [
    {
     "name": "stderr",
     "output_type": "stream",
     "text": [
      "INFO:pyngrok.ngrok:Opening tunnel named: http-80-52b389f6-43cb-4d64-a248-960d9d1c11aa\n",
      "2022-12-22 09:59:35.611 INFO    pyngrok.ngrok: Opening tunnel named: http-80-52b389f6-43cb-4d64-a248-960d9d1c11aa\n",
      "INFO:pyngrok.process.ngrok:t=2022-12-22T09:59:35+0000 lvl=info msg=\"no configuration paths supplied\"\n",
      "2022-12-22 09:59:35.653 INFO    pyngrok.process.ngrok: t=2022-12-22T09:59:35+0000 lvl=info msg=\"no configuration paths supplied\"\n",
      "INFO:pyngrok.process.ngrok:t=2022-12-22T09:59:35+0000 lvl=info msg=\"using configuration at default config path\" path=/root/.ngrok2/ngrok.yml\n",
      "2022-12-22 09:59:35.664 INFO    pyngrok.process.ngrok: t=2022-12-22T09:59:35+0000 lvl=info msg=\"using configuration at default config path\" path=/root/.ngrok2/ngrok.yml\n",
      "INFO:pyngrok.process.ngrok:t=2022-12-22T09:59:35+0000 lvl=info msg=\"open config file\" path=/root/.ngrok2/ngrok.yml err=nil\n",
      "2022-12-22 09:59:35.667 INFO    pyngrok.process.ngrok: t=2022-12-22T09:59:35+0000 lvl=info msg=\"open config file\" path=/root/.ngrok2/ngrok.yml err=nil\n",
      "INFO:pyngrok.process.ngrok:t=2022-12-22T09:59:35+0000 lvl=info msg=\"starting web service\" obj=web addr=127.0.0.1:4040\n",
      "2022-12-22 09:59:35.670 INFO    pyngrok.process.ngrok: t=2022-12-22T09:59:35+0000 lvl=info msg=\"starting web service\" obj=web addr=127.0.0.1:4040\n",
      "INFO:pyngrok.process.ngrok:t=2022-12-22T09:59:35+0000 lvl=info msg=\"tunnel session started\" obj=tunnels.session\n",
      "2022-12-22 09:59:35.992 INFO    pyngrok.process.ngrok: t=2022-12-22T09:59:35+0000 lvl=info msg=\"tunnel session started\" obj=tunnels.session\n",
      "INFO:pyngrok.process.ngrok:t=2022-12-22T09:59:35+0000 lvl=info msg=\"client session established\" obj=csess id=bcdde7ca11d8\n",
      "2022-12-22 09:59:36.001 INFO    pyngrok.process.ngrok: t=2022-12-22T09:59:35+0000 lvl=info msg=\"client session established\" obj=csess id=bcdde7ca11d8\n",
      "INFO:pyngrok.process.ngrok:t=2022-12-22T09:59:36+0000 lvl=info msg=start pg=/api/tunnels id=d1be3f051e8e3047\n",
      "2022-12-22 09:59:36.033 INFO    pyngrok.process.ngrok: t=2022-12-22T09:59:36+0000 lvl=info msg=start pg=/api/tunnels id=d1be3f051e8e3047\n",
      "INFO:pyngrok.process.ngrok:t=2022-12-22T09:59:36+0000 lvl=info msg=end pg=/api/tunnels id=d1be3f051e8e3047 status=200 dur=371.949µs\n",
      "2022-12-22 09:59:36.048 INFO    pyngrok.process.ngrok: t=2022-12-22T09:59:36+0000 lvl=info msg=end pg=/api/tunnels id=d1be3f051e8e3047 status=200 dur=371.949µs\n",
      "INFO:pyngrok.process.ngrok:t=2022-12-22T09:59:36+0000 lvl=info msg=start pg=/api/tunnels id=9d7c04317ec96fac\n",
      "2022-12-22 09:59:36.057 INFO    pyngrok.process.ngrok: t=2022-12-22T09:59:36+0000 lvl=info msg=start pg=/api/tunnels id=9d7c04317ec96fac\n",
      "INFO:pyngrok.process.ngrok:t=2022-12-22T09:59:36+0000 lvl=info msg=end pg=/api/tunnels id=9d7c04317ec96fac status=200 dur=161.86µs\n",
      "2022-12-22 09:59:36.074 INFO    pyngrok.process.ngrok: t=2022-12-22T09:59:36+0000 lvl=info msg=end pg=/api/tunnels id=9d7c04317ec96fac status=200 dur=161.86µs\n",
      "INFO:pyngrok.process.ngrok:t=2022-12-22T09:59:36+0000 lvl=info msg=start pg=/api/tunnels id=fac0627c1adfea37\n",
      "2022-12-22 09:59:36.086 INFO    pyngrok.process.ngrok: t=2022-12-22T09:59:36+0000 lvl=info msg=start pg=/api/tunnels id=fac0627c1adfea37\n",
      "INFO:pyngrok.process.ngrok:t=2022-12-22T09:59:36+0000 lvl=info msg=\"started tunnel\" obj=tunnels name=\"http-80-52b389f6-43cb-4d64-a248-960d9d1c11aa (http)\" addr=http://localhost:80 url=http://1504-34-91-78-247.ngrok.io\n",
      "2022-12-22 09:59:36.253 INFO    pyngrok.process.ngrok: t=2022-12-22T09:59:36+0000 lvl=info msg=\"started tunnel\" obj=tunnels name=\"http-80-52b389f6-43cb-4d64-a248-960d9d1c11aa (http)\" addr=http://localhost:80 url=http://1504-34-91-78-247.ngrok.io\n",
      "INFO:pyngrok.process.ngrok:t=2022-12-22T09:59:36+0000 lvl=info msg=\"started tunnel\" obj=tunnels name=http-80-52b389f6-43cb-4d64-a248-960d9d1c11aa addr=http://localhost:80 url=https://1504-34-91-78-247.ngrok.io\n",
      "2022-12-22 09:59:36.283 INFO    pyngrok.process.ngrok: t=2022-12-22T09:59:36+0000 lvl=info msg=\"started tunnel\" obj=tunnels name=http-80-52b389f6-43cb-4d64-a248-960d9d1c11aa addr=http://localhost:80 url=https://1504-34-91-78-247.ngrok.io\n",
      "INFO:pyngrok.process.ngrok:t=2022-12-22T09:59:36+0000 lvl=info msg=end pg=/api/tunnels id=fac0627c1adfea37 status=201 dur=218.716463ms\n",
      "2022-12-22 09:59:36.289 INFO    pyngrok.process.ngrok: t=2022-12-22T09:59:36+0000 lvl=info msg=end pg=/api/tunnels id=fac0627c1adfea37 status=201 dur=218.716463ms\n",
      "INFO:pyngrok.process.ngrok:t=2022-12-22T09:59:36+0000 lvl=info msg=start pg=\"/api/tunnels/http-80-52b389f6-43cb-4d64-a248-960d9d1c11aa (http)\" id=5dbe11f87d57fd84\n",
      "2022-12-22 09:59:36.295 INFO    pyngrok.process.ngrok: t=2022-12-22T09:59:36+0000 lvl=info msg=start pg=\"/api/tunnels/http-80-52b389f6-43cb-4d64-a248-960d9d1c11aa (http)\" id=5dbe11f87d57fd84\n",
      "INFO:pyngrok.process.ngrok:t=2022-12-22T09:59:36+0000 lvl=info msg=end pg=\"/api/tunnels/http-80-52b389f6-43cb-4d64-a248-960d9d1c11aa (http)\" id=5dbe11f87d57fd84 status=200 dur=197.203µs\n",
      "2022-12-22 09:59:36.304 INFO    pyngrok.process.ngrok: t=2022-12-22T09:59:36+0000 lvl=info msg=end pg=\"/api/tunnels/http-80-52b389f6-43cb-4d64-a248-960d9d1c11aa (http)\" id=5dbe11f87d57fd84 status=200 dur=197.203µs\n"
     ]
    },
    {
     "name": "stdout",
     "output_type": "stream",
     "text": [
      "NgrokTunnel: \"http://1504-34-91-78-247.ngrok.io\" -> \"http://localhost:80\"\n",
      "2022-12-22 09:59:37.065 INFO    numexpr.utils: NumExpr defaulting to 2 threads.\n"
     ]
    },
    {
     "name": "stderr",
     "output_type": "stream",
     "text": [
      "WARNING:pyngrok.process.ngrok:t=2022-12-22T09:59:42+0000 lvl=warn msg=\"failed to open private leg\" id=59a27526a830 privaddr=localhost:80 err=\"dial tcp 127.0.0.1:80: connect: connection refused\"\n",
      "2022-12-22 09:59:42.827 WARNING pyngrok.process.ngrok: t=2022-12-22T09:59:42+0000 lvl=warn msg=\"failed to open private leg\" id=59a27526a830 privaddr=localhost:80 err=\"dial tcp 127.0.0.1:80: connect: connection refused\"\n",
      "WARNING:pyngrok.process.ngrok:t=2022-12-22T09:59:43+0000 lvl=warn msg=\"failed to open private leg\" id=6b7b979b228e privaddr=localhost:80 err=\"dial tcp 127.0.0.1:80: connect: connection refused\"\n",
      "2022-12-22 09:59:43.305 WARNING pyngrok.process.ngrok: t=2022-12-22T09:59:43+0000 lvl=warn msg=\"failed to open private leg\" id=6b7b979b228e privaddr=localhost:80 err=\"dial tcp 127.0.0.1:80: connect: connection refused\"\n",
      "WARNING:pyngrok.process.ngrok:t=2022-12-22T09:59:45+0000 lvl=warn msg=\"failed to open private leg\" id=f08dbc2c6d7d privaddr=localhost:80 err=\"dial tcp 127.0.0.1:80: connect: connection refused\"\n",
      "2022-12-22 09:59:45.443 WARNING pyngrok.process.ngrok: t=2022-12-22T09:59:45+0000 lvl=warn msg=\"failed to open private leg\" id=f08dbc2c6d7d privaddr=localhost:80 err=\"dial tcp 127.0.0.1:80: connect: connection refused\"\n",
      "WARNING:pyngrok.process.ngrok:t=2022-12-22T09:59:45+0000 lvl=warn msg=\"failed to open private leg\" id=74b6ef70d902 privaddr=localhost:80 err=\"dial tcp 127.0.0.1:80: connect: connection refused\"\n",
      "2022-12-22 09:59:45.915 WARNING pyngrok.process.ngrok: t=2022-12-22T09:59:45+0000 lvl=warn msg=\"failed to open private leg\" id=74b6ef70d902 privaddr=localhost:80 err=\"dial tcp 127.0.0.1:80: connect: connection refused\"\n",
      "WARNING:pyngrok.process.ngrok:t=2022-12-22T09:59:46+0000 lvl=warn msg=\"failed to open private leg\" id=6f2c71017f31 privaddr=localhost:80 err=\"dial tcp 127.0.0.1:80: connect: connection refused\"\n",
      "2022-12-22 09:59:46.863 WARNING pyngrok.process.ngrok: t=2022-12-22T09:59:46+0000 lvl=warn msg=\"failed to open private leg\" id=6f2c71017f31 privaddr=localhost:80 err=\"dial tcp 127.0.0.1:80: connect: connection refused\"\n",
      "WARNING:pyngrok.process.ngrok:t=2022-12-22T09:59:47+0000 lvl=warn msg=\"failed to open private leg\" id=f97ef885242c privaddr=localhost:80 err=\"dial tcp 127.0.0.1:80: connect: connection refused\"\n",
      "2022-12-22 09:59:47.427 WARNING pyngrok.process.ngrok: t=2022-12-22T09:59:47+0000 lvl=warn msg=\"failed to open private leg\" id=f97ef885242c privaddr=localhost:80 err=\"dial tcp 127.0.0.1:80: connect: connection refused\"\n",
      "WARNING:pyngrok.process.ngrok:t=2022-12-22T09:59:48+0000 lvl=warn msg=\"failed to open private leg\" id=bfd5f6afb208 privaddr=localhost:80 err=\"dial tcp 127.0.0.1:80: connect: connection refused\"\n",
      "2022-12-22 09:59:48.192 WARNING pyngrok.process.ngrok: t=2022-12-22T09:59:48+0000 lvl=warn msg=\"failed to open private leg\" id=bfd5f6afb208 privaddr=localhost:80 err=\"dial tcp 127.0.0.1:80: connect: connection refused\"\n",
      "WARNING:pyngrok.process.ngrok:t=2022-12-22T09:59:48+0000 lvl=warn msg=\"failed to open private leg\" id=8ad22cb37627 privaddr=localhost:80 err=\"dial tcp 127.0.0.1:80: connect: connection refused\"\n",
      "2022-12-22 09:59:48.661 WARNING pyngrok.process.ngrok: t=2022-12-22T09:59:48+0000 lvl=warn msg=\"failed to open private leg\" id=8ad22cb37627 privaddr=localhost:80 err=\"dial tcp 127.0.0.1:80: connect: connection refused\"\n",
      "WARNING:pyngrok.process.ngrok:t=2022-12-22T09:59:52+0000 lvl=warn msg=\"failed to open private leg\" id=7b05ac2e4f5c privaddr=localhost:80 err=\"dial tcp 127.0.0.1:80: connect: connection refused\"\n",
      "2022-12-22 09:59:52.476 WARNING pyngrok.process.ngrok: t=2022-12-22T09:59:52+0000 lvl=warn msg=\"failed to open private leg\" id=7b05ac2e4f5c privaddr=localhost:80 err=\"dial tcp 127.0.0.1:80: connect: connection refused\"\n",
      "WARNING:pyngrok.process.ngrok:t=2022-12-22T09:59:52+0000 lvl=warn msg=\"failed to open private leg\" id=4172eeceda79 privaddr=localhost:80 err=\"dial tcp 127.0.0.1:80: connect: connection refused\"\n",
      "2022-12-22 09:59:52.953 WARNING pyngrok.process.ngrok: t=2022-12-22T09:59:52+0000 lvl=warn msg=\"failed to open private leg\" id=4172eeceda79 privaddr=localhost:80 err=\"dial tcp 127.0.0.1:80: connect: connection refused\"\n",
      "WARNING:pyngrok.process.ngrok:t=2022-12-22T09:59:55+0000 lvl=warn msg=\"failed to open private leg\" id=851e177f5e0d privaddr=localhost:80 err=\"dial tcp 127.0.0.1:80: connect: connection refused\"\n",
      "2022-12-22 09:59:55.332 WARNING pyngrok.process.ngrok: t=2022-12-22T09:59:55+0000 lvl=warn msg=\"failed to open private leg\" id=851e177f5e0d privaddr=localhost:80 err=\"dial tcp 127.0.0.1:80: connect: connection refused\"\n",
      "WARNING:pyngrok.process.ngrok:t=2022-12-22T09:59:55+0000 lvl=warn msg=\"failed to open private leg\" id=3bf969b88083 privaddr=localhost:80 err=\"dial tcp 127.0.0.1:80: connect: connection refused\"\n",
      "2022-12-22 09:59:55.836 WARNING pyngrok.process.ngrok: t=2022-12-22T09:59:55+0000 lvl=warn msg=\"failed to open private leg\" id=3bf969b88083 privaddr=localhost:80 err=\"dial tcp 127.0.0.1:80: connect: connection refused\"\n",
      "WARNING:pyngrok.process.ngrok:t=2022-12-22T09:59:56+0000 lvl=warn msg=\"failed to open private leg\" id=f1b1d93313d3 privaddr=localhost:80 err=\"dial tcp 127.0.0.1:80: connect: connection refused\"\n",
      "2022-12-22 09:59:56.565 WARNING pyngrok.process.ngrok: t=2022-12-22T09:59:56+0000 lvl=warn msg=\"failed to open private leg\" id=f1b1d93313d3 privaddr=localhost:80 err=\"dial tcp 127.0.0.1:80: connect: connection refused\"\n",
      "INFO:pyngrok.process.ngrok:t=2022-12-22T10:00:02+0000 lvl=info msg=\"join connections\" obj=join id=59c832ef2444 l=127.0.0.1:80 r=[2406:7400:61:dbd7:4292:efe6:4cb2:f4a5]:37668\n",
      "2022-12-22 10:00:02.972 INFO    pyngrok.process.ngrok: t=2022-12-22T10:00:02+0000 lvl=info msg=\"join connections\" obj=join id=59c832ef2444 l=127.0.0.1:80 r=[2406:7400:61:dbd7:4292:efe6:4cb2:f4a5]:37668\n",
      "INFO:pyngrok.process.ngrok:t=2022-12-22T10:00:03+0000 lvl=info msg=\"join connections\" obj=join id=8f7589be1981 l=127.0.0.1:80 r=[2406:7400:61:dbd7:4292:efe6:4cb2:f4a5]:37656\n",
      "2022-12-22 10:00:03.430 INFO    pyngrok.process.ngrok: t=2022-12-22T10:00:03+0000 lvl=info msg=\"join connections\" obj=join id=8f7589be1981 l=127.0.0.1:80 r=[2406:7400:61:dbd7:4292:efe6:4cb2:f4a5]:37656\n",
      "INFO:pyngrok.process.ngrok:t=2022-12-22T10:00:03+0000 lvl=info msg=\"join connections\" obj=join id=9d5f0a28add1 l=127.0.0.1:80 r=[2406:7400:61:dbd7:4292:efe6:4cb2:f4a5]:37704\n",
      "2022-12-22 10:00:03.680 INFO    pyngrok.process.ngrok: t=2022-12-22T10:00:03+0000 lvl=info msg=\"join connections\" obj=join id=9d5f0a28add1 l=127.0.0.1:80 r=[2406:7400:61:dbd7:4292:efe6:4cb2:f4a5]:37704\n",
      "INFO:pyngrok.process.ngrok:t=2022-12-22T10:00:03+0000 lvl=info msg=\"join connections\" obj=join id=e81c8e74297c l=127.0.0.1:80 r=[2406:7400:61:dbd7:4292:efe6:4cb2:f4a5]:37678\n",
      "2022-12-22 10:00:03.690 INFO    pyngrok.process.ngrok: t=2022-12-22T10:00:03+0000 lvl=info msg=\"join connections\" obj=join id=e81c8e74297c l=127.0.0.1:80 r=[2406:7400:61:dbd7:4292:efe6:4cb2:f4a5]:37678\n",
      "INFO:pyngrok.process.ngrok:t=2022-12-22T10:00:03+0000 lvl=info msg=\"join connections\" obj=join id=d38f3c116246 l=127.0.0.1:80 r=[2406:7400:61:dbd7:4292:efe6:4cb2:f4a5]:37682\n",
      "2022-12-22 10:00:03.702 INFO    pyngrok.process.ngrok: t=2022-12-22T10:00:03+0000 lvl=info msg=\"join connections\" obj=join id=d38f3c116246 l=127.0.0.1:80 r=[2406:7400:61:dbd7:4292:efe6:4cb2:f4a5]:37682\n",
      "INFO:pyngrok.process.ngrok:t=2022-12-22T10:00:03+0000 lvl=info msg=\"join connections\" obj=join id=e05db1ee8d2d l=127.0.0.1:80 r=[2406:7400:61:dbd7:4292:efe6:4cb2:f4a5]:37696\n",
      "2022-12-22 10:00:03.713 INFO    pyngrok.process.ngrok: t=2022-12-22T10:00:03+0000 lvl=info msg=\"join connections\" obj=join id=e05db1ee8d2d l=127.0.0.1:80 r=[2406:7400:61:dbd7:4292:efe6:4cb2:f4a5]:37696\n",
      "INFO:pyngrok.process.ngrok:t=2022-12-22T10:00:07+0000 lvl=info msg=\"join connections\" obj=join id=32b1b4074870 l=127.0.0.1:80 r=[2406:7400:61:dbd7:4292:efe6:4cb2:f4a5]:41318\n",
      "2022-12-22 10:00:07.334 INFO    pyngrok.process.ngrok: t=2022-12-22T10:00:07+0000 lvl=info msg=\"join connections\" obj=join id=32b1b4074870 l=127.0.0.1:80 r=[2406:7400:61:dbd7:4292:efe6:4cb2:f4a5]:41318\n"
     ]
    },
    {
     "name": "stdout",
     "output_type": "stream",
     "text": [
      "2022-12-22 10:00:16.616026: E tensorflow/stream_executor/cuda/cuda_driver.cc:271] failed call to cuInit: CUDA_ERROR_NO_DEVICE: no CUDA-capable device is detected\n"
     ]
    },
    {
     "name": "stderr",
     "output_type": "stream",
     "text": [
      "INFO:pyngrok.process.ngrok:t=2022-12-22T10:00:27+0000 lvl=info msg=\"join connections\" obj=join id=934d389d7cae l=127.0.0.1:80 r=[2406:7400:61:dbd7:4292:efe6:4cb2:f4a5]:37696\n",
      "2022-12-22 10:00:27.102 INFO    pyngrok.process.ngrok: t=2022-12-22T10:00:27+0000 lvl=info msg=\"join connections\" obj=join id=934d389d7cae l=127.0.0.1:80 r=[2406:7400:61:dbd7:4292:efe6:4cb2:f4a5]:37696\n"
     ]
    }
   ],
   "source": [
    "public_url = ngrok.connect(port='80')\n",
    "print (public_url)\n",
    "!streamlit run --server.port 80 app.py >/dev/null"
   ]
  },
  {
   "cell_type": "markdown",
   "id": "260fc786",
   "metadata": {
    "id": "c261f7a0"
   },
   "source": [
    "- I have deployed the best model on test data.\n",
    "- Here is the deployment video- https://drive.google.com/file/d/1SA6Vkx-3JGqydZ02kjqBLPTakncC2szZ/view?usp=sharing\n",
    "- Kindly go through the file(s) and suggest for improvements, if any."
   ]
  },
  {
   "cell_type": "code",
   "execution_count": null,
   "id": "0e49b8d4",
   "metadata": {},
   "outputs": [],
   "source": []
  }
 ],
 "metadata": {
  "colab": {
   "provenance": []
  },
  "gpuClass": "standard",
  "kernelspec": {
   "display_name": "Python 3 (ipykernel)",
   "language": "python",
   "name": "python3"
  },
  "language_info": {
   "codemirror_mode": {
    "name": "ipython",
    "version": 3
   },
   "file_extension": ".py",
   "mimetype": "text/x-python",
   "name": "python",
   "nbconvert_exporter": "python",
   "pygments_lexer": "ipython3",
   "version": "3.9.13"
  }
 },
 "nbformat": 4,
 "nbformat_minor": 5
}
